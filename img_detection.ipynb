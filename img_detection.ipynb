{
 "cells": [
  {
   "cell_type": "code",
   "execution_count": 1,
   "id": "d4372cd9-a25b-48c8-845f-11e4f2355ea1",
   "metadata": {},
   "outputs": [
    {
     "data": {
      "text/plain": [
       "-1"
      ]
     },
     "execution_count": 1,
     "metadata": {},
     "output_type": "execute_result"
    }
   ],
   "source": [
    "import cv2 as cv\n",
    "import numpy as np\n",
    "import matplotlib.pyplot as plt\n",
    "\n",
    "def canny(image):\n",
    "    canny = cv.Canny(blur, 50, 150)\n",
    "    return canny\n",
    "\n",
    "def region_of_interest(image):\n",
    "    height = image.shape[0]\n",
    "    polygons = np.array([[(200, height), (1100, height), (550, 250)]])\n",
    "    mask = np.zeros_like(image)\n",
    "    cv.fillPoly(mask, polygons, 255)\n",
    "    masked_image = cv.bitwise_and(image, mask)\n",
    "    return masked_image\n",
    "\n",
    "def display_lines(image, lines):\n",
    "    line_image = np.zeros_like(image)\n",
    "    if lines is not None:\n",
    "        for line in lines:\n",
    "            x1, y1, x2, y2 = line.reshape(4)\n",
    "            cv.line(line_image, (x1, y1), (x2, y2), (255,0,0), 10)\n",
    "    return line_image\n",
    "\n",
    "def average_slope_intercept(image, lines):\n",
    "    left_fit = []\n",
    "    right_fit = []\n",
    "    for line in lines:\n",
    "        x1, y1, x2, y2 = line.reshape(4)\n",
    "        parameters = np.polyfit((x1,x2), (y1,y2), 1)\n",
    "        slope = parameters[0]\n",
    "        intercept = parameters[1]\n",
    "        if slope<0:\n",
    "            left_fit.append((slope, intercept))\n",
    "        else:\n",
    "            right_fit.append((slope, intercept))\n",
    "    left_fit_average = np.average(left_fit, axis=0)\n",
    "    right_fit_average = np.average(right_fit, axis=0)\n",
    "    left_line = make_coordinates(image, left_fit_average)\n",
    "    right_line = make_coordinates(image, right_fit_average)\n",
    "\n",
    "    return np.array([left_line, right_line])\n",
    "\n",
    "def make_coordinates(image, line_parameters):\n",
    "    slope, intercept = line_parameters\n",
    "    y1 = image.shape[0]\n",
    "    y2 = int(y1*(3/5))\n",
    "    x1 = int((y1-intercept)/slope)\n",
    "    x2 = int((y2-intercept)/slope)\n",
    "    return np.array([x1, y1, x2, y2])\n",
    "\n",
    "image = cv.imread(\"test_image.jpg\")\n",
    "lane_image = np.copy(image)\n",
    "gray = cv.cvtColor(lane_image, cv.COLOR_RGB2GRAY)\n",
    "blur = cv.GaussianBlur(gray, (5,5), 0)\n",
    "canny_image = canny(lane_image)\n",
    "cropped_img = region_of_interest(canny_image)\n",
    "lines = cv.HoughLinesP(cropped_img, 2, np.pi/180, 100, np.array([]), minLineLength=40, maxLineGap=5)\n",
    "averaged_lines = average_slope_intercept(lane_image, lines)\n",
    "line_image = display_lines(lane_image, averaged_lines)\n",
    "combo_image = cv.addWeighted(lane_image, 0.8, line_image, 1, 1)\n",
    "\n",
    "cv.imshow('result', combo_image)\n",
    "cv.waitKey(0)\n"
   ]
  },
  {
   "cell_type": "code",
   "execution_count": null,
   "id": "f60c9975-f565-439f-9b85-2b542f5527a6",
   "metadata": {},
   "outputs": [],
   "source": []
  }
 ],
 "metadata": {
  "kernelspec": {
   "display_name": "Python 3 (ipykernel)",
   "language": "python",
   "name": "python3"
  },
  "language_info": {
   "codemirror_mode": {
    "name": "ipython",
    "version": 3
   },
   "file_extension": ".py",
   "mimetype": "text/x-python",
   "name": "python",
   "nbconvert_exporter": "python",
   "pygments_lexer": "ipython3",
   "version": "3.11.5"
  }
 },
 "nbformat": 4,
 "nbformat_minor": 5
}
